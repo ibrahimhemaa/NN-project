{
  "cells": [
    {
      "cell_type": "code",
      "execution_count": null,
      "metadata": {
        "id": "UqmzVAJ0pDn-"
      },
      "outputs": [],
      "source": [
        "from keras.datasets import mnist\n",
        "import numpy as np\n",
        "from keras.utils import to_categorical\n",
        "from sklearn.model_selection import train_test_split\n",
        "from sklearn.preprocessing import StandardScaler\n",
        "#libraries"
      ]
    },
    {
      "cell_type": "code",
      "execution_count": null,
      "metadata": {
        "id": "eYtPciUSrVmi"
      },
      "outputs": [],
      "source": [
        "(x , y) , (x_test , y_test) = mnist.load_data()\n",
        "#load dataset"
      ]
    },
    {
      "cell_type": "code",
      "execution_count": null,
      "metadata": {
        "id": "Uq22QyA-rs7e"
      },
      "outputs": [],
      "source": [
        "#Standardize dataset\n",
        "x = x.reshape(x.shape[0] ,-1 )\n",
        "x_test = x_test.reshape(x_test.shape[0] ,-1 )\n",
        "x_test = (x_test - np.mean(x)) / np.std(x)\n",
        "x = (x - np.mean(x)) / np.std(x)"
      ]
    },
    {
      "cell_type": "code",
      "execution_count": null,
      "metadata": {
        "id": "sL1SvHr5vUfh"
      },
      "outputs": [],
      "source": [
        "#Divide data into training and test\n",
        "x_train,x_valid,y_train,y_valid=train_test_split(x,y,test_size=0.2,random_state=42)"
      ]
    },
    {
      "cell_type": "code",
      "execution_count": null,
      "metadata": {
        "id": "2xhzrGIsvohz"
      },
      "outputs": [],
      "source": [
        "#4-Apply one hot vector for labels (meaning the value is 1 in the correct class and 0 in the rest, there will be 10 classes so a vector of 10).\n",
        "num_of_calsses=10\n",
        "y_train_onehot = np.zeros((y_train.shape[0], num_of_calsses))\n",
        "y_train_onehot[np.arange(y_train.shape[0]), y_train] = 1\n",
        "y_valid_onehot = np.zeros((y_valid.shape[0], num_of_calsses))\n",
        "y_valid_onehot[np.arange(y_valid.shape[0]), y_valid] = 1"
      ]
    },
    {
      "cell_type": "code",
      "execution_count": null,
      "metadata": {
        "id": "6aklyvv5x5hC"
      },
      "outputs": [],
      "source": [
        "def initial_weight(prev, curr, val):\n",
        "  if val == 0:\n",
        "    return np.random.uniform(-0.5,0.5,(784,curr))\n",
        "  else:\n",
        "     return np.random.uniform(-0.5,0.5,(prev, curr))\n",
        "def sigmoid(z):\n",
        "  return 1/(1+np.exp(-z))\n",
        "def soft_max(z):\n",
        "  return np.exp(z)/np.sum(np.exp(z))\n",
        "def mse(y_true,y_pred):\n",
        "  return (np.mean(y_true-y_pred)**2)\n",
        "def forward_pass(X, weights):\n",
        "  num_layers = len(weights) + 1\n",
        "  layer_outputs = []\n",
        "  input_data = X\n",
        "  for i in range(num_layers - 1):\n",
        "    weight_matrix = weights[i]\n",
        "    layer_input = np.dot(input_data, weight_matrix)\n",
        "    layer_output = sigmoid(layer_input)\n",
        "    layer_outputs.append(layer_output)\n",
        "    input_data = layer_output\n",
        "  return layer_outputs\n",
        "\n",
        "def backpropagation(X, y, layer_outputs, weights, learning_rate=.1):\n",
        "  num_layers = len(weights)\n",
        "  num_samples = X.shape[0]\n",
        "  layer_outputs.reverse()\n",
        "  error = (layer_outputs[0] - y) * layer_outputs[0] * (1 - layer_outputs[0])\n",
        "  for i in range(num_layers):\n",
        "    if i==0:\n",
        "      continue\n",
        "    gradient = np.dot(layer_outputs[i].T, error)\n",
        "    weights[i]-=(learning_rate/num_samples)*gradient #update weights\n",
        "    error=np.dot(error, weights[i].T)* layer_outputs[i] * (1 - layer_outputs[i])\n",
        "  return weights\n",
        ""
      ]
    },
    {
      "cell_type": "code",
      "execution_count": null,
      "metadata": {
        "colab": {
          "base_uri": "https://localhost:8080/"
        },
        "id": "1gYB-b8pyE-h",
        "outputId": "91a944b1-f803-472c-fc20-5b652e4acd1c"
      },
      "outputs": [
        {
          "output_type": "stream",
          "name": "stdout",
          "text": [
            "Epoch 0 Loss: 0.16230520587505107\n",
            "Epoch 100 Loss: 0.000280524497357473\n",
            "Epoch 200 Loss: 0.0006781638027781421\n",
            "Epoch 300 Loss: 0.0006322388475877101\n",
            "Epoch 400 Loss: 0.0004484719196212251\n",
            "Epoch 500 Loss: 0.00025341464971223506\n",
            "Epoch 600 Loss: 0.00012124447627058834\n",
            "Epoch 700 Loss: 4.88385334648977e-05\n",
            "Epoch 800 Loss: 1.2486219905325688e-05\n",
            "Epoch 900 Loss: 2.3850681955177466e-07\n",
            "Accuracy =43.766666666666666%\n"
          ]
        }
      ],
      "source": [
        "class NN:\n",
        "  def __init__(self, x, y, num_of_layers, size_of_layers):\n",
        "    self.X = x\n",
        "    self.y = y\n",
        "    self.num_of_layers = num_of_layers\n",
        "    self.size_of_layers = size_of_layers\n",
        "    self.weights = []\n",
        "\n",
        "  def fit(self, epochs, learning_rate):\n",
        "    prev_layer_size = 0\n",
        "    for i in range(self.num_of_layers):\n",
        "      curr_layer_size = self.size_of_layers[i]\n",
        "      layer_weights = initial_weight(prev_layer_size, curr_layer_size, i)\n",
        "      self.weights.append(layer_weights)\n",
        "      prev_layer_size = curr_layer_size\n",
        "\n",
        "\n",
        "    for epoch in range(epochs):\n",
        "      layer_outputs = forward_pass(self.X, self.weights)\n",
        "      loss = mse(self.y, layer_outputs[-1])\n",
        "      # if epoch%100==0:\n",
        "      #   print(f\"Epoch {epoch} Loss: {loss}\")\n",
        "      self.weights = backpropagation(self.X, self.y, layer_outputs, self.weights, learning_rate)\n",
        "\n",
        "  def predict(self, X_test):\n",
        "    layer_outputs = forward_pass(X_test, self.weights)\n",
        "    predictions = np.argmax(layer_outputs[-1], axis=1)#get max argument\n",
        "    return predictions\n",
        "nn = NN(x_train, y_train_onehot, num_of_layers=2, size_of_layers=[64, 10])\n",
        "\n",
        "nn.fit(epochs=1000, learning_rate=.1)\n",
        "predictions = nn.predict(x_valid)\n",
        "accuracy = np.mean(predictions == y_valid)\n",
        "print(f\"Accuracy ={accuracy*100}%\")\n"
      ]
    },
    {
      "cell_type": "code",
      "execution_count": null,
      "metadata": {
        "colab": {
          "base_uri": "https://localhost:8080/"
        },
        "id": "IJWP0F9Y4wX2",
        "outputId": "0cf4cc82-1074-4b22-b75d-0940510c0f31"
      },
      "outputs": [
        {
          "output_type": "stream",
          "name": "stdout",
          "text": [
            "Accuracy =53.475902%\n"
          ]
        }
      ],
      "source": [
        "#second example  Build NN with 3 layers => 2 hidden layers\n",
        "nn1 = NN(x_train, y_train_onehot, num_of_layers=3, size_of_layers=[20,10, 10])\n",
        "nn1.fit(epochs=1000, learning_rate=.1)\n",
        "predictions = nn1.predict(x_valid)\n",
        "accuracy = np.mean(predictions == y_valid)\n",
        "print(f\"Accuracy ={accuracy*100}%\")"
      ]
    },
    {
      "cell_type": "code",
      "execution_count": null,
      "metadata": {
        "id": "4poJsMtIeagr",
        "colab": {
          "base_uri": "https://localhost:8080/"
        },
        "outputId": "2a6d235e-55e8-4c73-f41f-81f5404cf426"
      },
      "outputs": [
        {
          "output_type": "stream",
          "name": "stdout",
          "text": [
            "Accuracy =54.6784125902%\n"
          ]
        }
      ],
      "source": [
        "#third example Build NN with 3 layers=> 2 hidden layer\n",
        "nn2 = NN(x_train, y_train_onehot, num_of_layers=3, size_of_layers=[20,30, 10])\n",
        "nn2.fit(epochs=1000, learning_rate=.1)\n",
        "predictions = nn2.predict(x_valid)\n",
        "accuracy = np.mean(predictions == y_valid)\n",
        "print(f\"Accuracy ={accuracy*100}%\")"
      ]
    },
    {
      "cell_type": "code",
      "source": [],
      "metadata": {
        "id": "4rC_mwLvd2Ls"
      },
      "execution_count": null,
      "outputs": []
    }
  ],
  "metadata": {
    "colab": {
      "provenance": []
    },
    "kernelspec": {
      "display_name": "Python 3",
      "name": "python3"
    },
    "language_info": {
      "name": "python"
    }
  },
  "nbformat": 4,
  "nbformat_minor": 0
}